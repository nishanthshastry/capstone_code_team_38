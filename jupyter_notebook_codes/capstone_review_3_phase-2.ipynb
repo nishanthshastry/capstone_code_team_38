{
 "cells": [
  {
   "cell_type": "code",
   "execution_count": 3,
   "metadata": {},
   "outputs": [],
   "source": [
    "# the tuples are in the format (process_id, corresponding_value)\n",
    "\n",
    "# For now, I am considering arrival time to start from 1\n",
    "\n",
    "arrival_time_channel = [[(1,1), (2,1), (3,2)],\n",
    "                        [(4,3), (5,4), (6,5)],\n",
    "                        [(7,6), (8,7), (9,8)],\n",
    "                        [(10,9), (11,10), (12,11)]]\n",
    "                        "
   ]
  },
  {
   "cell_type": "code",
   "execution_count": 4,
   "metadata": {},
   "outputs": [],
   "source": [
    "burst_time_channel = [[(1,1), (2,1), (3,1)],\n",
    "                      [(4,1), (5,1), (6,1)],\n",
    "                      [(7,1), (8,1), (9,1)],\n",
    "                      [(10,1), (11,1), (12,1)]]\n",
    "                        "
   ]
  },
  {
   "cell_type": "code",
   "execution_count": 5,
   "metadata": {},
   "outputs": [],
   "source": [
    "priority_channel = [[(1,1), (2,2), (3,3)],\n",
    "                    [(4,4), (5,5), (6,6)],\n",
    "                    [(7,7), (8,8), (9,9)],\n",
    "                    [(10,10), (11,11), (12,12)]]\n",
    "                        "
   ]
  },
  {
   "cell_type": "code",
   "execution_count": null,
   "metadata": {},
   "outputs": [],
   "source": []
  },
  {
   "cell_type": "code",
   "execution_count": 6,
   "metadata": {},
   "outputs": [
    {
     "name": "stdout",
     "output_type": "stream",
     "text": [
      "The first hidden layer in the Network is a MinPool Layer\n"
     ]
    }
   ],
   "source": [
    "print(\"The first hidden layer in the Network is a MinPool Layer\")"
   ]
  },
  {
   "cell_type": "code",
   "execution_count": null,
   "metadata": {},
   "outputs": [],
   "source": []
  },
  {
   "cell_type": "code",
   "execution_count": 7,
   "metadata": {},
   "outputs": [
    {
     "name": "stdout",
     "output_type": "stream",
     "text": [
      "Input Arrival Time Channel is:\n",
      "\n",
      "[(1, 1), (2, 1), (3, 2)]\n",
      "[(4, 3), (5, 4), (6, 5)]\n",
      "[(7, 6), (8, 7), (9, 8)]\n",
      "[(10, 9), (11, 10), (12, 11)]\n"
     ]
    }
   ],
   "source": [
    "print(\"Input Arrival Time Channel is:\\n\")\n",
    "\n",
    "for i in range(4):\n",
    "    print(arrival_time_channel[i])"
   ]
  },
  {
   "cell_type": "code",
   "execution_count": 8,
   "metadata": {},
   "outputs": [
    {
     "name": "stdout",
     "output_type": "stream",
     "text": [
      "Arrival Time Channel would be split up into the following parts while pooling:\n",
      "\n",
      "(1, 1)   (2, 1)\n",
      "(4, 3)   (5, 4)\n",
      "\n",
      "(2, 1)   (3, 2)\n",
      "(5, 4)   (6, 5)\n",
      "\n",
      "(4, 3)   (5, 4)\n",
      "(7, 6)   (8, 7)\n",
      "\n",
      "(5, 4)   (6, 5)\n",
      "(8, 7)   (9, 8)\n",
      "\n",
      "(7, 6)   (8, 7)\n",
      "(10, 9)   (11, 10)\n",
      "\n",
      "(8, 7)   (9, 8)\n",
      "(11, 10)   (12, 11)\n",
      "\n"
     ]
    }
   ],
   "source": [
    "# range is exclusive of the last number\n",
    "######\n",
    "print('Arrival Time Channel would be split up into the following parts while pooling:')\n",
    "print()\n",
    "\n",
    "for i in range(0,3):\n",
    "    for j in range(0,2):\n",
    "        print(arrival_time_channel[i][j],\" \",arrival_time_channel[i][j+1])\n",
    "        print(arrival_time_channel[i+1][j],\" \",arrival_time_channel[i+1][j+1])\n",
    "        print()\n",
    "\n",
    "\n"
   ]
  },
  {
   "cell_type": "code",
   "execution_count": 9,
   "metadata": {},
   "outputs": [],
   "source": [
    "min_pool_layer_1_channel_1 = []\n",
    "\n",
    "for i in range(3):\n",
    "    min_pool_layer_1_channel_1.append([])\n",
    "\n",
    "\n",
    "\n",
    "for i in range(0,3):\n",
    "    for j in range(0,2):\n",
    "        temp_list_1 = []\n",
    "        temp_list_1.append(arrival_time_channel[i][j])\n",
    "        temp_list_1.append(arrival_time_channel[i][j+1])\n",
    "        temp_list_1.append(arrival_time_channel[i+1][j])\n",
    "        temp_list_1.append(arrival_time_channel[i+1][j+1])\n",
    "        \n",
    "        \n",
    "        min = 9999\n",
    "        \n",
    "        for k in temp_list_1:\n",
    "            if(k[1] < min):\n",
    "                min = k[1]\n",
    "                temp_2 = k\n",
    "        min_pool_layer_1_channel_1[i].append(temp_2)        \n",
    "\n",
    "           \n",
    "# This kernel picked the first arrived process in each of the blocks it worked on, the output supports the cause\n",
    "# of reducing the waiting time, because it picks the earliest arrived processes.\n"
   ]
  },
  {
   "cell_type": "code",
   "execution_count": 10,
   "metadata": {},
   "outputs": [
    {
     "name": "stdout",
     "output_type": "stream",
     "text": [
      "The resulting channel after Min Pooling is:\n",
      "\n",
      "This step supports the cause of reducing the waiting time\n",
      "\n",
      "\n",
      "min_pool_layer_1_channel_1 created now is:\n",
      "\n",
      "[(1, 1), (2, 1)]\n",
      "[(4, 3), (5, 4)]\n",
      "[(7, 6), (8, 7)]\n"
     ]
    }
   ],
   "source": [
    "print(\"The resulting channel after Min Pooling is:\")\n",
    "print()\n",
    "print(\"This step supports the cause of reducing the waiting time\")\n",
    "print()\n",
    "\n",
    "print()\n",
    "print(\"min_pool_layer_1_channel_1 created now is:\")\n",
    "print()\n",
    "for i in range(3):\n",
    "    print(min_pool_layer_1_channel_1[i])"
   ]
  },
  {
   "cell_type": "code",
   "execution_count": null,
   "metadata": {},
   "outputs": [],
   "source": []
  },
  {
   "cell_type": "code",
   "execution_count": null,
   "metadata": {},
   "outputs": [],
   "source": []
  },
  {
   "cell_type": "code",
   "execution_count": null,
   "metadata": {},
   "outputs": [],
   "source": []
  },
  {
   "cell_type": "code",
   "execution_count": null,
   "metadata": {},
   "outputs": [],
   "source": []
  },
  {
   "cell_type": "code",
   "execution_count": 11,
   "metadata": {},
   "outputs": [
    {
     "name": "stdout",
     "output_type": "stream",
     "text": [
      "Input Burst Time Channel is:\n",
      "\n",
      "[(1, 1), (2, 1), (3, 1)]\n",
      "[(4, 1), (5, 1), (6, 1)]\n",
      "[(7, 1), (8, 1), (9, 1)]\n",
      "[(10, 1), (11, 1), (12, 1)]\n"
     ]
    }
   ],
   "source": [
    "print(\"Input Burst Time Channel is:\\n\")\n",
    "\n",
    "for i in range(4):\n",
    "    print(burst_time_channel[i])"
   ]
  },
  {
   "cell_type": "code",
   "execution_count": 12,
   "metadata": {},
   "outputs": [
    {
     "name": "stdout",
     "output_type": "stream",
     "text": [
      "The following parts of the Burst Time Channel will be considered for operation by the 1st MinPool layer\n",
      "\n",
      "(1, 1)   (2, 1)\n",
      "(4, 1)   (5, 1)\n",
      "\n",
      "(2, 1)   (3, 1)\n",
      "(5, 1)   (6, 1)\n",
      "\n",
      "(4, 1)   (5, 1)\n",
      "(7, 1)   (8, 1)\n",
      "\n",
      "(5, 1)   (6, 1)\n",
      "(8, 1)   (9, 1)\n",
      "\n",
      "(7, 1)   (8, 1)\n",
      "(10, 1)   (11, 1)\n",
      "\n",
      "(8, 1)   (9, 1)\n",
      "(11, 1)   (12, 1)\n",
      "\n"
     ]
    }
   ],
   "source": [
    "print(\"The following parts of the Burst Time Channel will be considered for operation by the 1st MinPool layer\")\n",
    "print()\n",
    "\n",
    "for i in range(3):\n",
    "    for j in range(2):\n",
    "        print(burst_time_channel[i][j],\" \",burst_time_channel[i][j+1])\n",
    "        print(burst_time_channel[i+1][j],\" \",burst_time_channel[i+1][j+1])\n",
    "        print()"
   ]
  },
  {
   "cell_type": "code",
   "execution_count": 13,
   "metadata": {},
   "outputs": [],
   "source": [
    "min_pool_layer_1_channel_2 = []\n",
    "\n",
    "for i in range(3):\n",
    "    min_pool_layer_1_channel_2.append([])\n",
    "\n",
    "for i in range(3):\n",
    "    for j in range(2):\n",
    "        temp_list_1 = []\n",
    "        temp_list_1.append(burst_time_channel[i][j])\n",
    "        temp_list_1.append(burst_time_channel[i][j+1])\n",
    "        temp_list_1.append(burst_time_channel[i+1][j])\n",
    "        temp_list_1.append(burst_time_channel[i+1][j+1])\n",
    "        \n",
    "        min = 9999\n",
    "        \n",
    "        for k in temp_list_1:\n",
    "            if(k[1] < min):\n",
    "                min = k[1]\n",
    "                temp_2 = k\n",
    "        min_pool_layer_1_channel_2[i].append(temp_2)"
   ]
  },
  {
   "cell_type": "code",
   "execution_count": 14,
   "metadata": {},
   "outputs": [
    {
     "name": "stdout",
     "output_type": "stream",
     "text": [
      "The input Burst Time Channel was MinPooled \n",
      "\n",
      "The resulting channel 2 in the 1st MinPool Layer is: \n",
      "\n",
      "[(1, 1), (2, 1)]\n",
      "[(4, 1), (5, 1)]\n",
      "[(7, 1), (8, 1)]\n"
     ]
    }
   ],
   "source": [
    "print(\"The input Burst Time Channel was MinPooled \\n\")\n",
    "print(\"The resulting channel 2 in the 1st MinPool Layer is: \\n\")\n",
    "\n",
    "for i in range(3):\n",
    "    print(min_pool_layer_1_channel_2[i])"
   ]
  },
  {
   "cell_type": "code",
   "execution_count": null,
   "metadata": {},
   "outputs": [],
   "source": []
  },
  {
   "cell_type": "code",
   "execution_count": null,
   "metadata": {},
   "outputs": [],
   "source": []
  },
  {
   "cell_type": "code",
   "execution_count": null,
   "metadata": {},
   "outputs": [],
   "source": []
  },
  {
   "cell_type": "code",
   "execution_count": null,
   "metadata": {},
   "outputs": [],
   "source": []
  },
  {
   "cell_type": "code",
   "execution_count": null,
   "metadata": {},
   "outputs": [],
   "source": []
  },
  {
   "cell_type": "code",
   "execution_count": null,
   "metadata": {},
   "outputs": [],
   "source": []
  },
  {
   "cell_type": "code",
   "execution_count": 15,
   "metadata": {},
   "outputs": [
    {
     "name": "stdout",
     "output_type": "stream",
     "text": [
      "Input priority channel is:\n",
      "\n",
      "[(1, 1), (2, 2), (3, 3)]\n",
      "[(4, 4), (5, 5), (6, 6)]\n",
      "[(7, 7), (8, 8), (9, 9)]\n",
      "[(10, 10), (11, 11), (12, 12)]\n"
     ]
    }
   ],
   "source": [
    "print(\"Input priority channel is:\\n\")\n",
    "\n",
    "for i in range(4):\n",
    "    print(priority_channel[i])"
   ]
  },
  {
   "cell_type": "code",
   "execution_count": 16,
   "metadata": {},
   "outputs": [
    {
     "name": "stdout",
     "output_type": "stream",
     "text": [
      "The following parts of the Priority Channel will be considered for Min Pooling:\n",
      "\n",
      "(1, 1)   (2, 2)\n",
      "(4, 4)   (5, 5)\n",
      "\n",
      "(2, 2)   (3, 3)\n",
      "(5, 5)   (6, 6)\n",
      "\n",
      "(4, 4)   (5, 5)\n",
      "(7, 7)   (8, 8)\n",
      "\n",
      "(5, 5)   (6, 6)\n",
      "(8, 8)   (9, 9)\n",
      "\n",
      "(7, 7)   (8, 8)\n",
      "(10, 10)   (11, 11)\n",
      "\n",
      "(8, 8)   (9, 9)\n",
      "(11, 11)   (12, 12)\n",
      "\n"
     ]
    }
   ],
   "source": [
    "print('The following parts of the Priority Channel will be considered for Min Pooling:')\n",
    "print()\n",
    "\n",
    "for i in range(0,3):\n",
    "    for j in range(0,2):\n",
    "        print(priority_channel[i][j],\" \",priority_channel[i][j+1])\n",
    "        print(priority_channel[i+1][j],\" \",priority_channel[i+1][j+1])\n",
    "        print()\n",
    "\n",
    "\n"
   ]
  },
  {
   "cell_type": "code",
   "execution_count": 17,
   "metadata": {},
   "outputs": [],
   "source": [
    "min_pool_layer_1_channel_3 = []\n",
    "\n",
    "for i in range(3):\n",
    "    min_pool_layer_1_channel_3.append([])\n",
    "\n",
    "\n",
    "for i in range(3):\n",
    "    for j in range(2):\n",
    "        temp_list_1 = []\n",
    "        temp_list_1.append(priority_channel[i][j])\n",
    "        temp_list_1.append(priority_channel[i][j+1])\n",
    "        temp_list_1.append(priority_channel[i+1][j])\n",
    "        temp_list_1.append(priority_channel[i+1][j+1])\n",
    "        \n",
    "        min = 9999\n",
    "        \n",
    "        for k in temp_list_1:\n",
    "            if(k[1] < min):\n",
    "                min = k[1]\n",
    "                temp_2 = k        \n",
    "        min_pool_layer_1_channel_3[i].append(temp_2)\n",
    "        \n",
    "        \n"
   ]
  },
  {
   "cell_type": "code",
   "execution_count": 18,
   "metadata": {},
   "outputs": [
    {
     "name": "stdout",
     "output_type": "stream",
     "text": [
      "The input Priority Channel was Min Pooled\n",
      "\n",
      "It supports the cause of selecting the processes with higher (lower numerically) priority value\n",
      "\n",
      "min_pool_layer_1_channel_2 created now is: \n",
      "\n",
      "[(1, 1), (2, 2)]\n",
      "[(4, 4), (5, 5)]\n",
      "[(7, 7), (8, 8)]\n"
     ]
    }
   ],
   "source": [
    "print(\"The input Priority Channel was Min Pooled\\n\")\n",
    "print(\"It supports the cause of selecting the processes with higher (lower numerically) priority value\")\n",
    "\n",
    "print()\n",
    "\n",
    "print(\"min_pool_layer_1_channel_2 created now is: \\n\")\n",
    "\n",
    "for i in range(3):\n",
    "    print(min_pool_layer_1_channel_3[i])\n",
    "\n"
   ]
  },
  {
   "cell_type": "code",
   "execution_count": null,
   "metadata": {},
   "outputs": [],
   "source": []
  },
  {
   "cell_type": "code",
   "execution_count": null,
   "metadata": {},
   "outputs": [],
   "source": []
  },
  {
   "cell_type": "code",
   "execution_count": null,
   "metadata": {},
   "outputs": [],
   "source": []
  },
  {
   "cell_type": "code",
   "execution_count": null,
   "metadata": {},
   "outputs": [],
   "source": []
  },
  {
   "cell_type": "code",
   "execution_count": 19,
   "metadata": {},
   "outputs": [
    {
     "name": "stdout",
     "output_type": "stream",
     "text": [
      "Manipulated channel of the input Arrival Time Channel: \n",
      "\n",
      "[(1, 1), (2, 1)]\n",
      "[(4, 3), (5, 4)]\n",
      "[(7, 6), (8, 7)]\n"
     ]
    }
   ],
   "source": [
    "print(\"Manipulated channel of the input Arrival Time Channel: \\n\")\n",
    "\n",
    "for i in range(3):\n",
    "    print(min_pool_layer_1_channel_1[i])"
   ]
  },
  {
   "cell_type": "code",
   "execution_count": 20,
   "metadata": {},
   "outputs": [
    {
     "name": "stdout",
     "output_type": "stream",
     "text": [
      "Manipulated channel of the input Burst Time Channel: \n",
      "\n",
      "[(1, 1), (2, 1)]\n",
      "[(4, 1), (5, 1)]\n",
      "[(7, 1), (8, 1)]\n"
     ]
    }
   ],
   "source": [
    "print(\"Manipulated channel of the input Burst Time Channel: \\n\")\n",
    "\n",
    "for i in range(3):\n",
    "    print(min_pool_layer_1_channel_2[i])"
   ]
  },
  {
   "cell_type": "code",
   "execution_count": 21,
   "metadata": {},
   "outputs": [
    {
     "name": "stdout",
     "output_type": "stream",
     "text": [
      "Manipulated channel of the input Priority Channel: \n",
      "\n",
      "[(1, 1), (2, 2)]\n",
      "[(4, 4), (5, 5)]\n",
      "[(7, 7), (8, 8)]\n"
     ]
    }
   ],
   "source": [
    "print(\"Manipulated channel of the input Priority Channel: \\n\")\n",
    "\n",
    "for i in range(3):\n",
    "    print(min_pool_layer_1_channel_3[i])"
   ]
  },
  {
   "cell_type": "code",
   "execution_count": null,
   "metadata": {},
   "outputs": [],
   "source": []
  },
  {
   "cell_type": "code",
   "execution_count": null,
   "metadata": {},
   "outputs": [],
   "source": []
  },
  {
   "cell_type": "code",
   "execution_count": 22,
   "metadata": {},
   "outputs": [
    {
     "name": "stdout",
     "output_type": "stream",
     "text": [
      "3 channels are present at the input to the 1st Convolutional layer\n"
     ]
    }
   ],
   "source": [
    "print(\"3 channels are present at the input to the 1st Convolutional layer\")"
   ]
  },
  {
   "cell_type": "code",
   "execution_count": null,
   "metadata": {},
   "outputs": [],
   "source": []
  },
  {
   "cell_type": "code",
   "execution_count": 23,
   "metadata": {},
   "outputs": [
    {
     "name": "stdout",
     "output_type": "stream",
     "text": [
      "Each Kernel applied in convolutional layer 1 will span across all the 3 channels\n"
     ]
    }
   ],
   "source": [
    "print(\"Each Kernel applied in convolutional layer 1 will span across all the 3 channels\")"
   ]
  },
  {
   "cell_type": "code",
   "execution_count": null,
   "metadata": {},
   "outputs": [],
   "source": []
  },
  {
   "cell_type": "code",
   "execution_count": 24,
   "metadata": {},
   "outputs": [
    {
     "name": "stdout",
     "output_type": "stream",
     "text": [
      "Kernels in the 1st convolutional layer are designed to assign different importance to the Kernels\n"
     ]
    }
   ],
   "source": [
    "print(\"Kernels in the 1st convolutional layer are designed to assign different importance to the Kernels\")"
   ]
  },
  {
   "cell_type": "code",
   "execution_count": null,
   "metadata": {},
   "outputs": [],
   "source": []
  },
  {
   "cell_type": "code",
   "execution_count": 25,
   "metadata": {},
   "outputs": [
    {
     "name": "stdout",
     "output_type": "stream",
     "text": [
      "3 Kernels are used in this layer\n"
     ]
    }
   ],
   "source": [
    "print(\"3 Kernels are used in this layer\")"
   ]
  },
  {
   "cell_type": "code",
   "execution_count": null,
   "metadata": {},
   "outputs": [],
   "source": [
    "######"
   ]
  },
  {
   "cell_type": "code",
   "execution_count": 27,
   "metadata": {
    "scrolled": true
   },
   "outputs": [
    {
     "name": "stdout",
     "output_type": "stream",
     "text": [
      "The 1st Kernel looks like:\n",
      "1 1    0 0    0 0 \n",
      "1 1    0 0    0 0 \n",
      "1 1    0 0    0 0\n"
     ]
    }
   ],
   "source": [
    "print(\"The 1st Kernel looks like:\")\n",
    "\n",
    "print(\"1 1    0 0    0 0 \\n1 1    0 0    0 0 \\n1 1    0 0    0 0\")"
   ]
  },
  {
   "cell_type": "code",
   "execution_count": null,
   "metadata": {},
   "outputs": [],
   "source": []
  },
  {
   "cell_type": "code",
   "execution_count": 30,
   "metadata": {
    "scrolled": true
   },
   "outputs": [
    {
     "name": "stdout",
     "output_type": "stream",
     "text": [
      "The 2nd Kernel looks like:\n",
      "0 0    1 1    0 0 \n",
      "0 0    1 1    0 0 \n",
      "0 0    1 1    0 0\n"
     ]
    }
   ],
   "source": [
    "print(\"The 2nd Kernel looks like:\")\n",
    "\n",
    "print(\"0 0    1 1    0 0 \\n0 0    1 1    0 0 \\n0 0    1 1    0 0\")"
   ]
  },
  {
   "cell_type": "code",
   "execution_count": null,
   "metadata": {},
   "outputs": [],
   "source": []
  },
  {
   "cell_type": "code",
   "execution_count": 31,
   "metadata": {},
   "outputs": [
    {
     "name": "stdout",
     "output_type": "stream",
     "text": [
      "The 3rd Kernel looks like:\n",
      "0 0    0 0    2 2 \n",
      "0 0    0 0    2 2 \n",
      "0 0    0 0    2 2\n"
     ]
    }
   ],
   "source": [
    "print(\"The 3rd Kernel looks like:\")\n",
    "\n",
    "print(\"0 0    0 0    2 2 \\n0 0    0 0    2 2 \\n0 0    0 0    2 2\")"
   ]
  },
  {
   "cell_type": "code",
   "execution_count": null,
   "metadata": {},
   "outputs": [],
   "source": [
    "######"
   ]
  },
  {
   "cell_type": "code",
   "execution_count": 51,
   "metadata": {},
   "outputs": [
    {
     "name": "stdout",
     "output_type": "stream",
     "text": [
      "[[(1, 1), (2, 1)], [(4, 3), (5, 4)], [(7, 6), (8, 7)]]\n"
     ]
    }
   ],
   "source": [
    "conv_layer_1_kernel_1 = [[1, 1, 1, 1, 1, 1], [0, 0, 0, 0, 0, 0], [0, 0, 0, 0, 0, 0]] \n",
    "\n",
    "conv_layer_1_channel_1 = []\n",
    "\n",
    "for i in range(3):\n",
    "    conv_layer_1_channel_1.append([])\n",
    "\n",
    "\n",
    "counter = 0\n",
    "\n",
    "for i in range(0, 3):\n",
    "    for j in range(0, 2):\n",
    "        \n",
    "        temp_2 = (min_pool_layer_1_channel_1[i][j][1] * conv_layer_1_kernel_1[0][counter]) + (min_pool_layer_1_channel_2[i][j][1] * conv_layer_1_kernel_1[1][counter]) + (min_pool_layer_1_channel_3[i][j][1] * conv_layer_1_kernel_1[2][counter])\n",
    "        temp_1 = (min_pool_layer_1_channel_1[i][j][0], temp_2)\n",
    "        counter=counter+1\n",
    "        \n",
    "        conv_layer_1_channel_1[i].append(temp_1)\n",
    "        \n",
    "print(conv_layer_1_channel_1)\n",
    "\n"
   ]
  },
  {
   "cell_type": "code",
   "execution_count": null,
   "metadata": {},
   "outputs": [],
   "source": []
  },
  {
   "cell_type": "code",
   "execution_count": null,
   "metadata": {},
   "outputs": [],
   "source": []
  },
  {
   "cell_type": "code",
   "execution_count": 53,
   "metadata": {},
   "outputs": [
    {
     "name": "stdout",
     "output_type": "stream",
     "text": [
      "conv_layer_1_channel_1 was formed after applying the above mentioned kernel 1 :\n",
      "\n",
      "[(1, 1), (2, 1)]\n",
      "[(4, 3), (5, 4)]\n",
      "[(7, 6), (8, 7)]\n"
     ]
    }
   ],
   "source": [
    "print(\"conv_layer_1_channel_1 was formed after applying the above mentioned kernel 1 :\\n\")\n",
    "\n",
    "for i in range(3):\n",
    "    print(conv_layer_1_channel_1[i])"
   ]
  },
  {
   "cell_type": "code",
   "execution_count": null,
   "metadata": {},
   "outputs": [],
   "source": []
  },
  {
   "cell_type": "code",
   "execution_count": null,
   "metadata": {
    "scrolled": true
   },
   "outputs": [],
   "source": []
  },
  {
   "cell_type": "code",
   "execution_count": 64,
   "metadata": {},
   "outputs": [
    {
     "name": "stdout",
     "output_type": "stream",
     "text": [
      "[[(1, 1), (2, 1)], [(4, 1), (5, 1)], [(7, 1), (8, 1)]]\n"
     ]
    }
   ],
   "source": [
    "conv_layer_1_kernel_2 = [[0, 0, 0, 0, 0, 0], [1, 1, 1, 1, 1, 1], [0, 0, 0, 0, 0, 0]] \n",
    "\n",
    "conv_layer_1_channel_2 = []\n",
    "\n",
    "for i in range(3):\n",
    "    conv_layer_1_channel_2.append([])\n",
    "\n",
    "\n",
    "counter = 0\n",
    "\n",
    "for i in range(0, 3):\n",
    "    for j in range(0, 2):\n",
    "        \n",
    "        temp_2 = (min_pool_layer_1_channel_1[i][j][1] * conv_layer_1_kernel_2[0][counter]) + (min_pool_layer_1_channel_2[i][j][1] * conv_layer_1_kernel_2[1][counter]) + (min_pool_layer_1_channel_3[i][j][1] * conv_layer_1_kernel_2[2][counter])\n",
    "        temp_1 = (min_pool_layer_1_channel_1[i][j][0], temp_2)\n",
    "        counter=counter+1\n",
    "        \n",
    "        conv_layer_1_channel_2[i].append(temp_1)\n",
    "        \n",
    "print(conv_layer_1_channel_2)\n",
    "\n"
   ]
  },
  {
   "cell_type": "code",
   "execution_count": null,
   "metadata": {},
   "outputs": [],
   "source": []
  },
  {
   "cell_type": "code",
   "execution_count": null,
   "metadata": {},
   "outputs": [],
   "source": []
  },
  {
   "cell_type": "code",
   "execution_count": 65,
   "metadata": {},
   "outputs": [
    {
     "name": "stdout",
     "output_type": "stream",
     "text": [
      "conv_layer_1_channel_2 was formed after applying the above mentioned kernel 2 :\n",
      "\n",
      "[(1, 1), (2, 1)]\n",
      "[(4, 1), (5, 1)]\n",
      "[(7, 1), (8, 1)]\n"
     ]
    }
   ],
   "source": [
    "print(\"conv_layer_1_channel_2 was formed after applying the above mentioned kernel 2 :\\n\")\n",
    "\n",
    "for i in range(3):\n",
    "    print(conv_layer_1_channel_2[i])"
   ]
  },
  {
   "cell_type": "code",
   "execution_count": null,
   "metadata": {},
   "outputs": [],
   "source": []
  },
  {
   "cell_type": "code",
   "execution_count": null,
   "metadata": {},
   "outputs": [],
   "source": []
  },
  {
   "cell_type": "code",
   "execution_count": 66,
   "metadata": {},
   "outputs": [
    {
     "name": "stdout",
     "output_type": "stream",
     "text": [
      "[[(1, 2), (2, 4)], [(4, 8), (5, 10)], [(7, 14), (8, 16)]]\n"
     ]
    }
   ],
   "source": [
    "conv_layer_1_kernel_3 = [[0, 0, 0, 0, 0, 0], [0, 0, 0, 0, 0, 0], [2, 2, 2, 2, 2, 2]] \n",
    "\n",
    "conv_layer_1_channel_3 = []\n",
    "\n",
    "for i in range(3):\n",
    "    conv_layer_1_channel_3.append([])\n",
    "\n",
    "\n",
    "counter = 0\n",
    "\n",
    "for i in range(0, 3):\n",
    "    for j in range(0, 2):\n",
    "        \n",
    "        temp_2 = (min_pool_layer_1_channel_1[i][j][1] * conv_layer_1_kernel_3[0][counter]) + (min_pool_layer_1_channel_2[i][j][1] * conv_layer_1_kernel_3[1][counter]) + (min_pool_layer_1_channel_3[i][j][1] * conv_layer_1_kernel_3[2][counter])\n",
    "        temp_1 = (min_pool_layer_1_channel_1[i][j][0], temp_2)\n",
    "        counter=counter+1\n",
    "        \n",
    "        conv_layer_1_channel_3[i].append(temp_1)\n",
    "        \n",
    "print(conv_layer_1_channel_3)\n",
    "\n"
   ]
  },
  {
   "cell_type": "code",
   "execution_count": null,
   "metadata": {},
   "outputs": [],
   "source": []
  },
  {
   "cell_type": "code",
   "execution_count": null,
   "metadata": {},
   "outputs": [],
   "source": []
  },
  {
   "cell_type": "code",
   "execution_count": 70,
   "metadata": {},
   "outputs": [
    {
     "name": "stdout",
     "output_type": "stream",
     "text": [
      "conv_layer_1_channel_3 was formed after applying the above mentioned kernel 3 :\n",
      "\n",
      "Notice that all the values of min_pool_layer_1_channel_3 are multiplied by 2\n",
      "\n",
      "[(1, 2), (2, 4)]\n",
      "[(4, 8), (5, 10)]\n",
      "[(7, 14), (8, 16)]\n"
     ]
    }
   ],
   "source": [
    "print(\"conv_layer_1_channel_3 was formed after applying the above mentioned kernel 3 :\\n\")\n",
    "\n",
    "print(\"Notice that all the values of min_pool_layer_1_channel_3 are multiplied by 2\\n\")\n",
    "\n",
    "for i in range(3):\n",
    "    print(conv_layer_1_channel_3[i])"
   ]
  },
  {
   "cell_type": "code",
   "execution_count": null,
   "metadata": {},
   "outputs": [],
   "source": []
  },
  {
   "cell_type": "code",
   "execution_count": null,
   "metadata": {},
   "outputs": [],
   "source": []
  },
  {
   "cell_type": "code",
   "execution_count": null,
   "metadata": {},
   "outputs": [],
   "source": []
  },
  {
   "cell_type": "code",
   "execution_count": 73,
   "metadata": {},
   "outputs": [
    {
     "name": "stdout",
     "output_type": "stream",
     "text": [
      "Inputs to convolutional layer 1 was: \n",
      "\n",
      "[(1, 1), (2, 1)] \t [(1, 1), (2, 1)] \t [(1, 1), (2, 2)]\n",
      "[(4, 3), (5, 4)] \t [(4, 1), (5, 1)] \t [(4, 4), (5, 5)]\n",
      "[(7, 6), (8, 7)] \t [(7, 1), (8, 1)] \t [(7, 7), (8, 8)]\n"
     ]
    }
   ],
   "source": [
    "print(\"Inputs to convolutional layer 1 was: \\n\")\n",
    "\n",
    "for i in range(3):\n",
    "    print(min_pool_layer_1_channel_1[i], \"\\t\", min_pool_layer_1_channel_2[i], \"\\t\", min_pool_layer_1_channel_3[i] )"
   ]
  },
  {
   "cell_type": "code",
   "execution_count": 74,
   "metadata": {},
   "outputs": [
    {
     "name": "stdout",
     "output_type": "stream",
     "text": [
      "Outputs from convolutional layer 1 is: \n",
      "\n",
      "[(1, 1), (2, 1)] \t [(1, 1), (2, 1)] \t [(1, 2), (2, 4)]\n",
      "[(4, 3), (5, 4)] \t [(4, 1), (5, 1)] \t [(4, 8), (5, 10)]\n",
      "[(7, 6), (8, 7)] \t [(7, 1), (8, 1)] \t [(7, 14), (8, 16)]\n"
     ]
    }
   ],
   "source": [
    "print(\"Outputs from convolutional layer 1 is: \\n\")\n",
    "\n",
    "for i in range(3):\n",
    "    print(conv_layer_1_channel_1[i], \"\\t\", conv_layer_1_channel_2[i], \"\\t\", conv_layer_1_channel_3[i] )"
   ]
  },
  {
   "cell_type": "code",
   "execution_count": 75,
   "metadata": {},
   "outputs": [
    {
     "name": "stdout",
     "output_type": "stream",
     "text": [
      "This kernel weighted the different properties\n"
     ]
    }
   ],
   "source": [
    "print(\"This kernel weighted the different properties\")"
   ]
  },
  {
   "cell_type": "code",
   "execution_count": 76,
   "metadata": {},
   "outputs": [
    {
     "name": "stdout",
     "output_type": "stream",
     "text": [
      "Here, the weighting was done in 1:1:2 ratio\n"
     ]
    }
   ],
   "source": [
    "print(\"Here, the weighting was done in 1:1:2 ratio\")"
   ]
  },
  {
   "cell_type": "code",
   "execution_count": 77,
   "metadata": {},
   "outputs": [
    {
     "name": "stdout",
     "output_type": "stream",
     "text": [
      "The values in this ratio could be changed to get better accuracy of the scheduler \n"
     ]
    }
   ],
   "source": [
    "print(\"The values in this ratio could be changed to get better accuracy of the scheduler \")"
   ]
  },
  {
   "cell_type": "code",
   "execution_count": null,
   "metadata": {},
   "outputs": [],
   "source": []
  },
  {
   "cell_type": "code",
   "execution_count": 78,
   "metadata": {},
   "outputs": [
    {
     "name": "stdout",
     "output_type": "stream",
     "text": [
      "The above layer was an example of the use of FEATURE EXTRACTION KERNELS\n"
     ]
    }
   ],
   "source": [
    "print(\"The above layer was an example of the use of FEATURE EXTRACTION KERNELS\")"
   ]
  },
  {
   "cell_type": "code",
   "execution_count": null,
   "metadata": {},
   "outputs": [],
   "source": []
  },
  {
   "cell_type": "code",
   "execution_count": null,
   "metadata": {},
   "outputs": [],
   "source": []
  },
  {
   "cell_type": "code",
   "execution_count": null,
   "metadata": {},
   "outputs": [],
   "source": []
  },
  {
   "cell_type": "code",
   "execution_count": null,
   "metadata": {},
   "outputs": [],
   "source": []
  },
  {
   "cell_type": "code",
   "execution_count": 79,
   "metadata": {},
   "outputs": [
    {
     "name": "stdout",
     "output_type": "stream",
     "text": [
      "The inputs in the burst time channel are maintained in a sorted fashion \n"
     ]
    }
   ],
   "source": [
    "print(\"The inputs in the burst time channel are maintained in a sorted fashion \")"
   ]
  },
  {
   "cell_type": "code",
   "execution_count": null,
   "metadata": {},
   "outputs": [],
   "source": [
    "###### ###### ###### ###### ###### ###### ######"
   ]
  },
  {
   "cell_type": "code",
   "execution_count": 87,
   "metadata": {},
   "outputs": [
    {
     "name": "stdout",
     "output_type": "stream",
     "text": [
      "To trade off between long and short processes, we need a kernel like: \n",
      "\n",
      "0 0\n",
      "5 0\n",
      "0 0\n",
      "\n",
      "Given the processes are in ascending order, this kernel picks the median process\n"
     ]
    }
   ],
   "source": [
    "print(\"To trade off between long and short processes, we need a kernel like: \\n\")\n",
    "\n",
    "print(\"0 0\")\n",
    "print(\"5 0\")\n",
    "print(\"0 0\")\n",
    "\n",
    "print(\"\\nGiven the processes are in ascending order, this kernel picks the median process\")"
   ]
  },
  {
   "cell_type": "code",
   "execution_count": null,
   "metadata": {},
   "outputs": [],
   "source": []
  },
  {
   "cell_type": "code",
   "execution_count": 126,
   "metadata": {},
   "outputs": [
    {
     "name": "stdout",
     "output_type": "stream",
     "text": [
      "This will also help all the processes get a FAIR SHARE OF CPU TIME, as long processes are not allowed to occupy the CPU for long intervals of time\n"
     ]
    }
   ],
   "source": [
    "print(\"This will also help all the processes get a FAIR SHARE OF CPU TIME, as long processes are not allowed to occupy the CPU for long intervals of time\")"
   ]
  },
  {
   "cell_type": "code",
   "execution_count": null,
   "metadata": {},
   "outputs": [],
   "source": []
  },
  {
   "cell_type": "code",
   "execution_count": 81,
   "metadata": {},
   "outputs": [
    {
     "name": "stdout",
     "output_type": "stream",
     "text": [
      "The number 5 could be changed, the number should be selected such that the overall accuracy is the best\n"
     ]
    }
   ],
   "source": [
    "print(\"The number 5 could be changed, the number should be selected such that the overall accuracy is the best\")"
   ]
  },
  {
   "cell_type": "code",
   "execution_count": 82,
   "metadata": {},
   "outputs": [
    {
     "name": "stdout",
     "output_type": "stream",
     "text": [
      "5 is used instead of 1 to emphasize the importance of the process\n"
     ]
    }
   ],
   "source": [
    "print(\"5 is used instead of 1 to emphasize the importance of the process\")"
   ]
  },
  {
   "cell_type": "code",
   "execution_count": null,
   "metadata": {},
   "outputs": [],
   "source": []
  },
  {
   "cell_type": "code",
   "execution_count": 83,
   "metadata": {},
   "outputs": [
    {
     "name": "stdout",
     "output_type": "stream",
     "text": [
      "In convolutional layer 2 we'll change only the burst time channel\n"
     ]
    }
   ],
   "source": [
    "print(\"In convolutional layer 2 we'll change only the burst time channel\")"
   ]
  },
  {
   "cell_type": "code",
   "execution_count": null,
   "metadata": {},
   "outputs": [],
   "source": []
  },
  {
   "cell_type": "code",
   "execution_count": null,
   "metadata": {},
   "outputs": [],
   "source": []
  },
  {
   "cell_type": "code",
   "execution_count": 85,
   "metadata": {},
   "outputs": [
    {
     "name": "stdout",
     "output_type": "stream",
     "text": [
      "[[(1, 1), (2, 1)], [(4, 3), (5, 4)], [(7, 6), (8, 7)]]\n"
     ]
    }
   ],
   "source": [
    "conv_layer_2_kernel_1 = [[1, 1, 1, 1, 1, 1], [0, 0, 0, 0, 0, 0], [0, 0, 0, 0, 0, 0]] \n",
    "\n",
    "conv_layer_2_channel_1 = []\n",
    "\n",
    "for i in range(3):\n",
    "    conv_layer_2_channel_1.append([])\n",
    "\n",
    "\n",
    "counter = 0\n",
    "\n",
    "for i in range(0, 3):\n",
    "    for j in range(0, 2):\n",
    "        \n",
    "        temp_2 = (conv_layer_1_channel_1[i][j][1] * conv_layer_2_kernel_1[0][counter]) + (conv_layer_1_channel_2[i][j][1] * conv_layer_2_kernel_1[1][counter]) + (conv_layer_1_channel_3[i][j][1] * conv_layer_2_kernel_1[2][counter])\n",
    "        temp_1 = (conv_layer_1_channel_1[i][j][0], temp_2)\n",
    "        counter=counter+1\n",
    "        \n",
    "        conv_layer_2_channel_1[i].append(temp_1)\n",
    "        \n",
    "print(conv_layer_2_channel_1)\n",
    "\n"
   ]
  },
  {
   "cell_type": "code",
   "execution_count": null,
   "metadata": {},
   "outputs": [],
   "source": []
  },
  {
   "cell_type": "code",
   "execution_count": null,
   "metadata": {},
   "outputs": [],
   "source": []
  },
  {
   "cell_type": "code",
   "execution_count": 88,
   "metadata": {},
   "outputs": [
    {
     "name": "stdout",
     "output_type": "stream",
     "text": [
      "[[(1, 0), (2, 0)], [(4, 5), (5, 0)], [(7, 0), (8, 0)]]\n"
     ]
    }
   ],
   "source": [
    "conv_layer_2_kernel_2 = [[0, 0, 0, 0, 0, 0], [0, 0, 5, 0, 0, 0], [0, 0, 0, 0, 0, 0]] \n",
    "\n",
    "conv_layer_2_channel_2 = []\n",
    "\n",
    "for i in range(3):\n",
    "    conv_layer_2_channel_2.append([])\n",
    "\n",
    "\n",
    "counter = 0\n",
    "\n",
    "for i in range(0, 3):\n",
    "    for j in range(0, 2):\n",
    "        \n",
    "        temp_2 = (conv_layer_1_channel_1[i][j][1] * conv_layer_2_kernel_2[0][counter]) + (conv_layer_1_channel_2[i][j][1] * conv_layer_2_kernel_2[1][counter]) + (conv_layer_1_channel_3[i][j][1] * conv_layer_2_kernel_2[2][counter])\n",
    "        temp_1 = (conv_layer_1_channel_1[i][j][0], temp_2)\n",
    "        counter=counter+1\n",
    "        \n",
    "        conv_layer_2_channel_2[i].append(temp_1)\n",
    "        \n",
    "print(conv_layer_2_channel_2)\n",
    "\n"
   ]
  },
  {
   "cell_type": "code",
   "execution_count": null,
   "metadata": {},
   "outputs": [],
   "source": []
  },
  {
   "cell_type": "code",
   "execution_count": null,
   "metadata": {},
   "outputs": [],
   "source": []
  },
  {
   "cell_type": "code",
   "execution_count": 89,
   "metadata": {},
   "outputs": [
    {
     "name": "stdout",
     "output_type": "stream",
     "text": [
      "[[(1, 2), (2, 4)], [(4, 8), (5, 10)], [(7, 14), (8, 16)]]\n"
     ]
    }
   ],
   "source": [
    "conv_layer_2_kernel_3 = [[0, 0, 0, 0, 0, 0], [0, 0, 0, 0, 0, 0], [1, 1, 1, 1, 1, 1]] \n",
    "\n",
    "conv_layer_2_channel_3 = []\n",
    "\n",
    "for i in range(3):\n",
    "    conv_layer_2_channel_3.append([])\n",
    "\n",
    "\n",
    "counter = 0\n",
    "\n",
    "for i in range(0, 3):\n",
    "    for j in range(0, 2):\n",
    "        \n",
    "        temp_2 = (conv_layer_1_channel_1[i][j][1] * conv_layer_2_kernel_3[0][counter]) + (conv_layer_1_channel_2[i][j][1] * conv_layer_2_kernel_3[1][counter]) + (conv_layer_1_channel_3[i][j][1] * conv_layer_2_kernel_3[2][counter])\n",
    "        temp_1 = (conv_layer_1_channel_1[i][j][0], temp_2)\n",
    "        counter=counter+1\n",
    "        \n",
    "        conv_layer_2_channel_3[i].append(temp_1)\n",
    "        \n",
    "print(conv_layer_2_channel_3)\n",
    "\n"
   ]
  },
  {
   "cell_type": "code",
   "execution_count": null,
   "metadata": {},
   "outputs": [],
   "source": []
  },
  {
   "cell_type": "code",
   "execution_count": null,
   "metadata": {},
   "outputs": [],
   "source": []
  },
  {
   "cell_type": "code",
   "execution_count": 90,
   "metadata": {},
   "outputs": [
    {
     "name": "stdout",
     "output_type": "stream",
     "text": [
      "Outputs from convolutional layer 2 is: \n",
      "\n",
      "[(1, 1), (2, 1)] \t [(1, 0), (2, 0)] \t [(1, 2), (2, 4)]\n",
      "[(4, 3), (5, 4)] \t [(4, 5), (5, 0)] \t [(4, 8), (5, 10)]\n",
      "[(7, 6), (8, 7)] \t [(7, 0), (8, 0)] \t [(7, 14), (8, 16)]\n"
     ]
    }
   ],
   "source": [
    "print(\"Outputs from convolutional layer 2 is: \\n\")\n",
    "\n",
    "for i in range(3):\n",
    "    print(conv_layer_2_channel_1[i], \"\\t\", conv_layer_2_channel_2[i], \"\\t\", conv_layer_2_channel_3[i] )"
   ]
  },
  {
   "cell_type": "code",
   "execution_count": null,
   "metadata": {},
   "outputs": [],
   "source": []
  },
  {
   "cell_type": "code",
   "execution_count": null,
   "metadata": {},
   "outputs": [],
   "source": []
  },
  {
   "cell_type": "code",
   "execution_count": 91,
   "metadata": {},
   "outputs": [
    {
     "name": "stdout",
     "output_type": "stream",
     "text": [
      "Convolutional layer 3 is to merge all the layers\n"
     ]
    }
   ],
   "source": [
    "print('Convolutional layer 3 is to merge all the layers')"
   ]
  },
  {
   "cell_type": "code",
   "execution_count": null,
   "metadata": {},
   "outputs": [],
   "source": [
    "############"
   ]
  },
  {
   "cell_type": "code",
   "execution_count": 95,
   "metadata": {},
   "outputs": [
    {
     "name": "stdout",
     "output_type": "stream",
     "text": [
      "Kernel used for convolution layer 3 is:\n",
      "1 1    1 1    1 1 \n",
      "1 1    1 1    1 1 \n",
      "1 1    1 1    1 1\n"
     ]
    }
   ],
   "source": [
    "print(\"Kernel used for convolution layer 3 is:\")\n",
    "\n",
    "print(\"1 1    1 1    1 1 \\n1 1    1 1    1 1 \\n1 1    1 1    1 1\")"
   ]
  },
  {
   "cell_type": "code",
   "execution_count": null,
   "metadata": {},
   "outputs": [],
   "source": []
  },
  {
   "cell_type": "code",
   "execution_count": 92,
   "metadata": {},
   "outputs": [
    {
     "name": "stdout",
     "output_type": "stream",
     "text": [
      "[[(1, 3), (2, 5)], [(4, 16), (5, 14)], [(7, 20), (8, 23)]]\n"
     ]
    }
   ],
   "source": [
    "conv_layer_3_kernel_1 = [[1, 1, 1, 1, 1, 1], [1, 1, 1, 1, 1, 1], [1, 1, 1, 1, 1, 1]] \n",
    "\n",
    "\n",
    "conv_layer_3_channel_1 = []\n",
    "\n",
    "for i in range(3):\n",
    "    conv_layer_3_channel_1.append([])\n",
    "\n",
    "\n",
    "counter = 0\n",
    "\n",
    "for i in range(0, 3):\n",
    "    for j in range(0, 2):\n",
    "        \n",
    "        temp_2 = (conv_layer_2_channel_1[i][j][1] * conv_layer_3_kernel_1[0][counter]) + (conv_layer_2_channel_2[i][j][1] * conv_layer_3_kernel_1[1][counter]) + (conv_layer_2_channel_3[i][j][1] * conv_layer_3_kernel_1[2][counter])\n",
    "        temp_1 = (conv_layer_1_channel_1[i][j][0], temp_2)\n",
    "        counter=counter+1\n",
    "        \n",
    "        conv_layer_3_channel_1[i].append(temp_1)\n",
    "        \n",
    "print(conv_layer_3_channel_1)\n",
    "\n"
   ]
  },
  {
   "cell_type": "code",
   "execution_count": null,
   "metadata": {},
   "outputs": [],
   "source": []
  },
  {
   "cell_type": "code",
   "execution_count": null,
   "metadata": {},
   "outputs": [],
   "source": []
  },
  {
   "cell_type": "code",
   "execution_count": 96,
   "metadata": {},
   "outputs": [
    {
     "name": "stdout",
     "output_type": "stream",
     "text": [
      "Outputs from convolutional layer 3 is: \n",
      "\n",
      "[(1, 3), (2, 5)]\n",
      "[(4, 16), (5, 14)]\n",
      "[(7, 20), (8, 23)]\n"
     ]
    }
   ],
   "source": [
    "print(\"Outputs from convolutional layer 3 is: \\n\")\n",
    "\n",
    "for i in range(3):\n",
    "    print(conv_layer_3_channel_1[i])"
   ]
  },
  {
   "cell_type": "code",
   "execution_count": null,
   "metadata": {},
   "outputs": [],
   "source": []
  },
  {
   "cell_type": "code",
   "execution_count": null,
   "metadata": {},
   "outputs": [],
   "source": []
  },
  {
   "cell_type": "code",
   "execution_count": 97,
   "metadata": {},
   "outputs": [
    {
     "data": {
      "text/plain": [
       "[[(1, 3), (2, 5)], [(4, 16), (5, 14)], [(7, 20), (8, 23)]]"
      ]
     },
     "execution_count": 97,
     "metadata": {},
     "output_type": "execute_result"
    }
   ],
   "source": [
    "conv_layer_3_channel_1"
   ]
  },
  {
   "cell_type": "code",
   "execution_count": null,
   "metadata": {},
   "outputs": [],
   "source": []
  },
  {
   "cell_type": "code",
   "execution_count": null,
   "metadata": {},
   "outputs": [],
   "source": []
  },
  {
   "cell_type": "code",
   "execution_count": 102,
   "metadata": {},
   "outputs": [
    {
     "data": {
      "text/plain": [
       "[[(1, 3)], [(5, 14)]]"
      ]
     },
     "execution_count": 102,
     "metadata": {},
     "output_type": "execute_result"
    }
   ],
   "source": [
    "min_pool_layer_2_channel_1 = []\n",
    "\n",
    "for i in range(2):\n",
    "    min_pool_layer_2_channel_1.append([])\n",
    "\n",
    "\n",
    "for i in range(0, 2):\n",
    "    for j in range(0, 1):\n",
    "        temp_1 = []\n",
    "        \n",
    "        temp_1.append(conv_layer_3_channel_1[i][j])\n",
    "        temp_1.append(conv_layer_3_channel_1[i][j+1])\n",
    "        temp_1.append(conv_layer_3_channel_1[i+1][j])\n",
    "        temp_1.append(conv_layer_3_channel_1[i+1][j+1])\n",
    "        \n",
    "        min = 9999\n",
    "        \n",
    "        for k in temp_1:\n",
    "            if(k[1] < min):\n",
    "                min = k[1]\n",
    "                temp_2 = k\n",
    "        min_pool_layer_2_channel_1[i].append(temp_2)\n",
    "                \n",
    "        \n",
    "min_pool_layer_2_channel_1\n",
    "        "
   ]
  },
  {
   "cell_type": "code",
   "execution_count": null,
   "metadata": {},
   "outputs": [],
   "source": []
  },
  {
   "cell_type": "code",
   "execution_count": null,
   "metadata": {},
   "outputs": [],
   "source": []
  },
  {
   "cell_type": "code",
   "execution_count": 120,
   "metadata": {},
   "outputs": [
    {
     "data": {
      "text/plain": [
       "[(1, 3)]"
      ]
     },
     "execution_count": 120,
     "metadata": {},
     "output_type": "execute_result"
    }
   ],
   "source": [
    "min_pool_layer_3_channel_1 = []\n",
    "\n",
    "mini = 9999\n",
    "\n",
    "for i in range(0, 2):\n",
    "    if min_pool_layer_2_channel_1[i][0][1] < mini:\n",
    "        mini = min_pool_layer_2_channel_1[i][0][1]\n",
    "        temp_1 = min_pool_layer_2_channel_1[i][0]\n",
    "        \n",
    "min_pool_layer_3_channel_1.append(temp_1)\n",
    "\n",
    "min_pool_layer_3_channel_1"
   ]
  },
  {
   "cell_type": "code",
   "execution_count": null,
   "metadata": {},
   "outputs": [],
   "source": [
    "##############################"
   ]
  }
 ],
 "metadata": {
  "kernelspec": {
   "display_name": "Python 3",
   "language": "python",
   "name": "python3"
  },
  "language_info": {
   "codemirror_mode": {
    "name": "ipython",
    "version": 3
   },
   "file_extension": ".py",
   "mimetype": "text/x-python",
   "name": "python",
   "nbconvert_exporter": "python",
   "pygments_lexer": "ipython3",
   "version": "3.8.5"
  }
 },
 "nbformat": 4,
 "nbformat_minor": 4
}
